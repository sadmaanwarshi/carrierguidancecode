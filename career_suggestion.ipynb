{
  "cells": [
    {
      "cell_type": "markdown",
      "metadata": {
        "id": "uzpkQsUzhJbb"
      },
      "source": [
        "# **Machine-Learning Models**\n"
      ]
    },
    {
      "cell_type": "code",
      "execution_count": 21,
      "metadata": {
        "id": "nm4Sp720Btdg"
      },
      "outputs": [],
      "source": [
        "import pandas as pd\n",
        "from sklearn.metrics import accuracy_score\n",
        "from sklearn import metrics\n",
        "import joblib\n",
        "from sklearn.model_selection import train_test_split\n",
        "import numpy as np\n",
        "\n",
        "import matplotlib.pyplot as plt\n"
      ]
    },
    {
      "cell_type": "markdown",
      "metadata": {
        "id": "Dma9Pz_O5bcx"
      },
      "source": [
        "## Loading Data"
      ]
    },
    {
      "cell_type": "code",
      "execution_count": 22,
      "metadata": {
        "colab": {
          "base_uri": "https://localhost:8080/",
          "height": 241
        },
        "id": "eKUQ1MNo5bcy",
        "outputId": "7367be3d-af6e-483e-c823-2e864221f3cb"
      },
      "outputs": [
        {
          "output_type": "execute_result",
          "data": {
            "text/plain": [
              "   Marks of English  Marks of Science   Marks of Maths  \\\n",
              "0                88                 92              94   \n",
              "1                95                 94              96   \n",
              "2                97                100              97   \n",
              "3                92                 89             100   \n",
              "4                89                 84              88   \n",
              "\n",
              "   Marks of Social science  Marks of 2nd Language  Marks of Apititude Test  \\\n",
              "0                       88                     78                        8   \n",
              "1                       91                     81                        9   \n",
              "2                       79                     88                        8   \n",
              "3                       88                     79                       10   \n",
              "4                       92                     96                        7   \n",
              "\n",
              "  Intrested Subject Extra-courses did Suggested Carreer  \n",
              "0             MATHS               yes       ENGINEERING  \n",
              "1             MATHS                no       ENGINEERING  \n",
              "2           PHYSICS               yes       ENGINEERING  \n",
              "3           BIOLOGY               yes           MEDICAL  \n",
              "4         CHEMISTRY                no           MEDICAL  "
            ],
            "text/html": [
              "\n",
              "  <div id=\"df-88b22f70-6812-4218-bed6-d0f5e86c4706\" class=\"colab-df-container\">\n",
              "    <div>\n",
              "<style scoped>\n",
              "    .dataframe tbody tr th:only-of-type {\n",
              "        vertical-align: middle;\n",
              "    }\n",
              "\n",
              "    .dataframe tbody tr th {\n",
              "        vertical-align: top;\n",
              "    }\n",
              "\n",
              "    .dataframe thead th {\n",
              "        text-align: right;\n",
              "    }\n",
              "</style>\n",
              "<table border=\"1\" class=\"dataframe\">\n",
              "  <thead>\n",
              "    <tr style=\"text-align: right;\">\n",
              "      <th></th>\n",
              "      <th>Marks of English</th>\n",
              "      <th>Marks of Science</th>\n",
              "      <th>Marks of Maths</th>\n",
              "      <th>Marks of Social science</th>\n",
              "      <th>Marks of 2nd Language</th>\n",
              "      <th>Marks of Apititude Test</th>\n",
              "      <th>Intrested Subject</th>\n",
              "      <th>Extra-courses did</th>\n",
              "      <th>Suggested Carreer</th>\n",
              "    </tr>\n",
              "  </thead>\n",
              "  <tbody>\n",
              "    <tr>\n",
              "      <th>0</th>\n",
              "      <td>88</td>\n",
              "      <td>92</td>\n",
              "      <td>94</td>\n",
              "      <td>88</td>\n",
              "      <td>78</td>\n",
              "      <td>8</td>\n",
              "      <td>MATHS</td>\n",
              "      <td>yes</td>\n",
              "      <td>ENGINEERING</td>\n",
              "    </tr>\n",
              "    <tr>\n",
              "      <th>1</th>\n",
              "      <td>95</td>\n",
              "      <td>94</td>\n",
              "      <td>96</td>\n",
              "      <td>91</td>\n",
              "      <td>81</td>\n",
              "      <td>9</td>\n",
              "      <td>MATHS</td>\n",
              "      <td>no</td>\n",
              "      <td>ENGINEERING</td>\n",
              "    </tr>\n",
              "    <tr>\n",
              "      <th>2</th>\n",
              "      <td>97</td>\n",
              "      <td>100</td>\n",
              "      <td>97</td>\n",
              "      <td>79</td>\n",
              "      <td>88</td>\n",
              "      <td>8</td>\n",
              "      <td>PHYSICS</td>\n",
              "      <td>yes</td>\n",
              "      <td>ENGINEERING</td>\n",
              "    </tr>\n",
              "    <tr>\n",
              "      <th>3</th>\n",
              "      <td>92</td>\n",
              "      <td>89</td>\n",
              "      <td>100</td>\n",
              "      <td>88</td>\n",
              "      <td>79</td>\n",
              "      <td>10</td>\n",
              "      <td>BIOLOGY</td>\n",
              "      <td>yes</td>\n",
              "      <td>MEDICAL</td>\n",
              "    </tr>\n",
              "    <tr>\n",
              "      <th>4</th>\n",
              "      <td>89</td>\n",
              "      <td>84</td>\n",
              "      <td>88</td>\n",
              "      <td>92</td>\n",
              "      <td>96</td>\n",
              "      <td>7</td>\n",
              "      <td>CHEMISTRY</td>\n",
              "      <td>no</td>\n",
              "      <td>MEDICAL</td>\n",
              "    </tr>\n",
              "  </tbody>\n",
              "</table>\n",
              "</div>\n",
              "    <div class=\"colab-df-buttons\">\n",
              "\n",
              "  <div class=\"colab-df-container\">\n",
              "    <button class=\"colab-df-convert\" onclick=\"convertToInteractive('df-88b22f70-6812-4218-bed6-d0f5e86c4706')\"\n",
              "            title=\"Convert this dataframe to an interactive table.\"\n",
              "            style=\"display:none;\">\n",
              "\n",
              "  <svg xmlns=\"http://www.w3.org/2000/svg\" height=\"24px\" viewBox=\"0 -960 960 960\">\n",
              "    <path d=\"M120-120v-720h720v720H120Zm60-500h600v-160H180v160Zm220 220h160v-160H400v160Zm0 220h160v-160H400v160ZM180-400h160v-160H180v160Zm440 0h160v-160H620v160ZM180-180h160v-160H180v160Zm440 0h160v-160H620v160Z\"/>\n",
              "  </svg>\n",
              "    </button>\n",
              "\n",
              "  <style>\n",
              "    .colab-df-container {\n",
              "      display:flex;\n",
              "      gap: 12px;\n",
              "    }\n",
              "\n",
              "    .colab-df-convert {\n",
              "      background-color: #E8F0FE;\n",
              "      border: none;\n",
              "      border-radius: 50%;\n",
              "      cursor: pointer;\n",
              "      display: none;\n",
              "      fill: #1967D2;\n",
              "      height: 32px;\n",
              "      padding: 0 0 0 0;\n",
              "      width: 32px;\n",
              "    }\n",
              "\n",
              "    .colab-df-convert:hover {\n",
              "      background-color: #E2EBFA;\n",
              "      box-shadow: 0px 1px 2px rgba(60, 64, 67, 0.3), 0px 1px 3px 1px rgba(60, 64, 67, 0.15);\n",
              "      fill: #174EA6;\n",
              "    }\n",
              "\n",
              "    .colab-df-buttons div {\n",
              "      margin-bottom: 4px;\n",
              "    }\n",
              "\n",
              "    [theme=dark] .colab-df-convert {\n",
              "      background-color: #3B4455;\n",
              "      fill: #D2E3FC;\n",
              "    }\n",
              "\n",
              "    [theme=dark] .colab-df-convert:hover {\n",
              "      background-color: #434B5C;\n",
              "      box-shadow: 0px 1px 3px 1px rgba(0, 0, 0, 0.15);\n",
              "      filter: drop-shadow(0px 1px 2px rgba(0, 0, 0, 0.3));\n",
              "      fill: #FFFFFF;\n",
              "    }\n",
              "  </style>\n",
              "\n",
              "    <script>\n",
              "      const buttonEl =\n",
              "        document.querySelector('#df-88b22f70-6812-4218-bed6-d0f5e86c4706 button.colab-df-convert');\n",
              "      buttonEl.style.display =\n",
              "        google.colab.kernel.accessAllowed ? 'block' : 'none';\n",
              "\n",
              "      async function convertToInteractive(key) {\n",
              "        const element = document.querySelector('#df-88b22f70-6812-4218-bed6-d0f5e86c4706');\n",
              "        const dataTable =\n",
              "          await google.colab.kernel.invokeFunction('convertToInteractive',\n",
              "                                                    [key], {});\n",
              "        if (!dataTable) return;\n",
              "\n",
              "        const docLinkHtml = 'Like what you see? Visit the ' +\n",
              "          '<a target=\"_blank\" href=https://colab.research.google.com/notebooks/data_table.ipynb>data table notebook</a>'\n",
              "          + ' to learn more about interactive tables.';\n",
              "        element.innerHTML = '';\n",
              "        dataTable['output_type'] = 'display_data';\n",
              "        await google.colab.output.renderOutput(dataTable, element);\n",
              "        const docLink = document.createElement('div');\n",
              "        docLink.innerHTML = docLinkHtml;\n",
              "        element.appendChild(docLink);\n",
              "      }\n",
              "    </script>\n",
              "  </div>\n",
              "\n",
              "\n",
              "<div id=\"df-5eea0b12-0e16-4ee8-ba79-ee422e1681d5\">\n",
              "  <button class=\"colab-df-quickchart\" onclick=\"quickchart('df-5eea0b12-0e16-4ee8-ba79-ee422e1681d5')\"\n",
              "            title=\"Suggest charts.\"\n",
              "            style=\"display:none;\">\n",
              "\n",
              "<svg xmlns=\"http://www.w3.org/2000/svg\" height=\"24px\"viewBox=\"0 0 24 24\"\n",
              "     width=\"24px\">\n",
              "    <g>\n",
              "        <path d=\"M19 3H5c-1.1 0-2 .9-2 2v14c0 1.1.9 2 2 2h14c1.1 0 2-.9 2-2V5c0-1.1-.9-2-2-2zM9 17H7v-7h2v7zm4 0h-2V7h2v10zm4 0h-2v-4h2v4z\"/>\n",
              "    </g>\n",
              "</svg>\n",
              "  </button>\n",
              "\n",
              "<style>\n",
              "  .colab-df-quickchart {\n",
              "      --bg-color: #E8F0FE;\n",
              "      --fill-color: #1967D2;\n",
              "      --hover-bg-color: #E2EBFA;\n",
              "      --hover-fill-color: #174EA6;\n",
              "      --disabled-fill-color: #AAA;\n",
              "      --disabled-bg-color: #DDD;\n",
              "  }\n",
              "\n",
              "  [theme=dark] .colab-df-quickchart {\n",
              "      --bg-color: #3B4455;\n",
              "      --fill-color: #D2E3FC;\n",
              "      --hover-bg-color: #434B5C;\n",
              "      --hover-fill-color: #FFFFFF;\n",
              "      --disabled-bg-color: #3B4455;\n",
              "      --disabled-fill-color: #666;\n",
              "  }\n",
              "\n",
              "  .colab-df-quickchart {\n",
              "    background-color: var(--bg-color);\n",
              "    border: none;\n",
              "    border-radius: 50%;\n",
              "    cursor: pointer;\n",
              "    display: none;\n",
              "    fill: var(--fill-color);\n",
              "    height: 32px;\n",
              "    padding: 0;\n",
              "    width: 32px;\n",
              "  }\n",
              "\n",
              "  .colab-df-quickchart:hover {\n",
              "    background-color: var(--hover-bg-color);\n",
              "    box-shadow: 0 1px 2px rgba(60, 64, 67, 0.3), 0 1px 3px 1px rgba(60, 64, 67, 0.15);\n",
              "    fill: var(--button-hover-fill-color);\n",
              "  }\n",
              "\n",
              "  .colab-df-quickchart-complete:disabled,\n",
              "  .colab-df-quickchart-complete:disabled:hover {\n",
              "    background-color: var(--disabled-bg-color);\n",
              "    fill: var(--disabled-fill-color);\n",
              "    box-shadow: none;\n",
              "  }\n",
              "\n",
              "  .colab-df-spinner {\n",
              "    border: 2px solid var(--fill-color);\n",
              "    border-color: transparent;\n",
              "    border-bottom-color: var(--fill-color);\n",
              "    animation:\n",
              "      spin 1s steps(1) infinite;\n",
              "  }\n",
              "\n",
              "  @keyframes spin {\n",
              "    0% {\n",
              "      border-color: transparent;\n",
              "      border-bottom-color: var(--fill-color);\n",
              "      border-left-color: var(--fill-color);\n",
              "    }\n",
              "    20% {\n",
              "      border-color: transparent;\n",
              "      border-left-color: var(--fill-color);\n",
              "      border-top-color: var(--fill-color);\n",
              "    }\n",
              "    30% {\n",
              "      border-color: transparent;\n",
              "      border-left-color: var(--fill-color);\n",
              "      border-top-color: var(--fill-color);\n",
              "      border-right-color: var(--fill-color);\n",
              "    }\n",
              "    40% {\n",
              "      border-color: transparent;\n",
              "      border-right-color: var(--fill-color);\n",
              "      border-top-color: var(--fill-color);\n",
              "    }\n",
              "    60% {\n",
              "      border-color: transparent;\n",
              "      border-right-color: var(--fill-color);\n",
              "    }\n",
              "    80% {\n",
              "      border-color: transparent;\n",
              "      border-right-color: var(--fill-color);\n",
              "      border-bottom-color: var(--fill-color);\n",
              "    }\n",
              "    90% {\n",
              "      border-color: transparent;\n",
              "      border-bottom-color: var(--fill-color);\n",
              "    }\n",
              "  }\n",
              "</style>\n",
              "\n",
              "  <script>\n",
              "    async function quickchart(key) {\n",
              "      const quickchartButtonEl =\n",
              "        document.querySelector('#' + key + ' button');\n",
              "      quickchartButtonEl.disabled = true;  // To prevent multiple clicks.\n",
              "      quickchartButtonEl.classList.add('colab-df-spinner');\n",
              "      try {\n",
              "        const charts = await google.colab.kernel.invokeFunction(\n",
              "            'suggestCharts', [key], {});\n",
              "      } catch (error) {\n",
              "        console.error('Error during call to suggestCharts:', error);\n",
              "      }\n",
              "      quickchartButtonEl.classList.remove('colab-df-spinner');\n",
              "      quickchartButtonEl.classList.add('colab-df-quickchart-complete');\n",
              "    }\n",
              "    (() => {\n",
              "      let quickchartButtonEl =\n",
              "        document.querySelector('#df-5eea0b12-0e16-4ee8-ba79-ee422e1681d5 button');\n",
              "      quickchartButtonEl.style.display =\n",
              "        google.colab.kernel.accessAllowed ? 'block' : 'none';\n",
              "    })();\n",
              "  </script>\n",
              "</div>\n",
              "    </div>\n",
              "  </div>\n"
            ]
          },
          "metadata": {},
          "execution_count": 22
        }
      ],
      "source": [
        "df = pd.read_csv('/content/our_data_for_project.csv')\n",
        "df.drop(['Stream'], axis=1, inplace=True)\n",
        "df.head()"
      ]
    },
    {
      "cell_type": "code",
      "execution_count": 23,
      "metadata": {
        "colab": {
          "base_uri": "https://localhost:8080/",
          "height": 0
        },
        "id": "LeNZulAi5bcy",
        "outputId": "e661292d-681b-4c06-e7c2-f0dfd7c4a6a2"
      },
      "outputs": [
        {
          "output_type": "stream",
          "name": "stdout",
          "text": [
            "<class 'pandas.core.frame.DataFrame'>\n",
            "RangeIndex: 199 entries, 0 to 198\n",
            "Data columns (total 9 columns):\n",
            " #   Column                   Non-Null Count  Dtype \n",
            "---  ------                   --------------  ----- \n",
            " 0   Marks of English         199 non-null    int64 \n",
            " 1   Marks of Science         199 non-null    int64 \n",
            " 2   Marks of Maths           199 non-null    int64 \n",
            " 3   Marks of Social science  199 non-null    int64 \n",
            " 4   Marks of 2nd Language    199 non-null    int64 \n",
            " 5   Marks of Apititude Test  199 non-null    int64 \n",
            " 6   Intrested Subject        199 non-null    object\n",
            " 7   Extra-courses did        199 non-null    object\n",
            " 8   Suggested Carreer        199 non-null    object\n",
            "dtypes: int64(6), object(3)\n",
            "memory usage: 14.1+ KB\n",
            "None\n"
          ]
        }
      ],
      "source": [
        "print(df.info())"
      ]
    },
    {
      "cell_type": "code",
      "source": [
        "from sklearn.preprocessing import LabelEncoder\n",
        "\n",
        "le = LabelEncoder()\n",
        "\n",
        "df['Intrested Subject'] = le.fit_transform(df['Intrested Subject'])\n",
        "df['Extra-courses did'] = le.fit_transform(df['Extra-courses did'])"
      ],
      "metadata": {
        "id": "oLw2NKtI16w6"
      },
      "execution_count": 27,
      "outputs": []
    },
    {
      "cell_type": "code",
      "execution_count": 28,
      "metadata": {
        "colab": {
          "base_uri": "https://localhost:8080/",
          "height": 0
        },
        "id": "nBE5KzJ15bcz",
        "outputId": "dfbb2990-258d-442a-c0a6-3409b8cd67d8"
      },
      "outputs": [
        {
          "output_type": "stream",
          "name": "stdout",
          "text": [
            "Train Data Length: 179\n",
            "Test Data Length: 20\n"
          ]
        }
      ],
      "source": [
        "X = np.asarray(df[['Marks of English', 'Marks of Science ', 'Marks of Maths', 'Marks of Social science', 'Marks of 2nd Language', 'Marks of Apititude Test', 'Intrested Subject', 'Extra-courses did']])\n",
        "y = np.asarray(df['Suggested Carreer'])\n",
        "\n",
        "X_train, X_test, y_train, y_test = train_test_split(X,y, test_size = 0.10, random_state=21)\n",
        "\n",
        "print('Train Data Length:',len(X_train))\n",
        "print('Test Data Length:',len(X_test))"
      ]
    },
    {
      "cell_type": "markdown",
      "metadata": {
        "id": "G5mtiAI3qHa-"
      },
      "source": [
        "## Decision Tree Classifier"
      ]
    },
    {
      "cell_type": "code",
      "execution_count": 29,
      "metadata": {
        "id": "FVvxg1WWdGaJ"
      },
      "outputs": [],
      "source": [
        "from sklearn.tree import DecisionTreeClassifier"
      ]
    },
    {
      "cell_type": "code",
      "execution_count": 30,
      "metadata": {
        "id": "tubwOz7Cdrmh"
      },
      "outputs": [],
      "source": [
        "model = DecisionTreeClassifier()\n",
        "model.fit(X_train, y_train)\n",
        "predictions = model.predict(X_test)"
      ]
    },
    {
      "cell_type": "code",
      "execution_count": 36,
      "metadata": {
        "id": "WYTl4OxpBVsx"
      },
      "outputs": [],
      "source": [
        "# Confusion Matrix\n",
        "cnf_matrix = metrics.confusion_matrix(y_test, predictions)"
      ]
    },
    {
      "cell_type": "code",
      "source": [
        "# import seaborn as sn\n",
        "# import pandas as pd\n",
        "# import matplotlib.pyplot as plt\n",
        "\n",
        "# df_cm = pd.DataFrame(cnf_matrix, index = list(model.classes_), columns = list(model.classes_))\n",
        "# plt.figure(figsize = (6,6))\n",
        "# sn.heatmap(df_cm, annot=True, cmap=\"gnuplot2_r\", fmt='d')"
      ],
      "metadata": {
        "id": "NZhHZJpIB3BK"
      },
      "execution_count": 39,
      "outputs": []
    },
    {
      "cell_type": "code",
      "execution_count": 38,
      "metadata": {
        "colab": {
          "base_uri": "https://localhost:8080/",
          "height": 0
        },
        "id": "Bi3Uz9d-BVs0",
        "outputId": "815165f8-2a4b-4459-a4af-b87fc0472a78"
      },
      "outputs": [
        {
          "output_type": "stream",
          "name": "stdout",
          "text": [
            "Accuracy: 0.7\n",
            "Precision: 0.7441666666666666\n",
            "Recall: 0.7\n"
          ]
        }
      ],
      "source": [
        "print(\"Accuracy:\",metrics.accuracy_score(y_test, predictions))\n",
        "print(\"Precision:\",metrics.precision_score(y_test, predictions, average='weighted')) # [None, 'micro', 'macro', 'weighted'].\n",
        "print(\"Recall:\",metrics.recall_score(y_test, predictions, average='weighted'))"
      ]
    },
    {
      "cell_type": "code",
      "source": [
        "# Saving/Loading the trained model\n",
        "\n",
        "import pickle\n",
        "# pickle.dump(model,open('model.pkl','wb'))\n",
        "# model = pickle.load(open('model.pkl','rb'))"
      ],
      "metadata": {
        "id": "IcUm1hh_-Pvr"
      },
      "execution_count": null,
      "outputs": []
    },
    {
      "cell_type": "code",
      "execution_count": 81,
      "metadata": {
        "colab": {
          "base_uri": "https://localhost:8080/",
          "height": 66,
          "referenced_widgets": [
            "927a46bb5ad640d19b7734968e36c1e7",
            "fc951702f8fb4ca480a54c18b68a4ac7",
            "bc665635d3314a5c8b30277b1b8eac21",
            "dc465b093c344fcaa5950e62722e3f9d",
            "c534dc75474d49d6a0a21864514194b0"
          ]
        },
        "id": "WLYf8k3Gm7rO",
        "outputId": "ed25b13b-f1f5-483f-9471-91e965559322",
        "cellView": "form"
      },
      "outputs": [
        {
          "output_type": "display_data",
          "data": {
            "text/plain": [
              "Button(description='Suggest Course', style=ButtonStyle())"
            ],
            "application/vnd.jupyter.widget-view+json": {
              "version_major": 2,
              "version_minor": 0,
              "model_id": "927a46bb5ad640d19b7734968e36c1e7"
            }
          },
          "metadata": {}
        },
        {
          "output_type": "display_data",
          "data": {
            "text/plain": [
              "Output()"
            ],
            "application/vnd.jupyter.widget-view+json": {
              "version_major": 2,
              "version_minor": 0,
              "model_id": "dc465b093c344fcaa5950e62722e3f9d"
            }
          },
          "metadata": {}
        }
      ],
      "source": [
        "import ipywidgets as widgets\n",
        "from IPython.display import display\n",
        "\n",
        "Marks_of_English = 88 # @param {type:\"integer\"}\n",
        "Marks_of_Science = 90 # @param {type:\"integer\"}\n",
        "Marks_of_Maths = 100 # @param {type:\"integer\"}\n",
        "Marks_of_Social_science = 56 # @param {type:\"integer\"}\n",
        "Marks_of_2nd_Language = 100 # @param {type:\"integer\"}\n",
        "Marks_of_Apititude_Test = 4 # @param {type:\"integer\"}\n",
        "Intrested_Subject = \"CHEMISTRY\" # @param [\"MATHS\", \"PHYSICS\", \"BIOLOGY\", \"CHEMISTRY\", \"BUSINESS STUDIES\", \"ACCOUNTANCY\", \"ECONOMICS\", \"HISTORY\", \"GEOGRAPHY\", \"POLITICAL SCIENCE \"]\n",
        "Extra_courses_did = \"YES\" # @param [\"YES\", \"NO\"]\n",
        "\n",
        "\n",
        "Intrested_Subject = le.fit_transform([Intrested_Subject.upper()])\n",
        "Extra_courses_did = le.fit_transform([Extra_courses_did.upper()])\n",
        "\n",
        "\n",
        "\n",
        "button = widgets.Button(description=\"Suggest Course\")\n",
        "output = widgets.Output()\n",
        "\n",
        "def on_button_clicked(b):\n",
        "  # Display the message within the output widget.\n",
        "  with output:\n",
        "    # Predicting with new values\n",
        "      new_val = [[Marks_of_English, Marks_of_Science, Marks_of_Maths, Marks_of_Social_science, Marks_of_2nd_Language, Marks_of_Apititude_Test, Intrested_Subject, Extra_courses_did]]\n",
        "      print(\"Suggested Course:\", model.predict(new_val)[0])\n",
        "\n",
        "button.on_click(on_button_clicked)\n",
        "display(button, output)"
      ]
    }
  ],
  "metadata": {
    "colab": {
      "provenance": []
    },
    "gpuClass": "standard",
    "kernelspec": {
      "display_name": "Python 3",
      "name": "python3"
    },
    "language_info": {
      "name": "python"
    },
    "widgets": {
      "application/vnd.jupyter.widget-state+json": {
        "927a46bb5ad640d19b7734968e36c1e7": {
          "model_module": "@jupyter-widgets/controls",
          "model_name": "ButtonModel",
          "model_module_version": "1.5.0",
          "state": {
            "_dom_classes": [],
            "_model_module": "@jupyter-widgets/controls",
            "_model_module_version": "1.5.0",
            "_model_name": "ButtonModel",
            "_view_count": null,
            "_view_module": "@jupyter-widgets/controls",
            "_view_module_version": "1.5.0",
            "_view_name": "ButtonView",
            "button_style": "",
            "description": "Suggest Course",
            "disabled": false,
            "icon": "",
            "layout": "IPY_MODEL_fc951702f8fb4ca480a54c18b68a4ac7",
            "style": "IPY_MODEL_bc665635d3314a5c8b30277b1b8eac21",
            "tooltip": ""
          }
        },
        "fc951702f8fb4ca480a54c18b68a4ac7": {
          "model_module": "@jupyter-widgets/base",
          "model_name": "LayoutModel",
          "model_module_version": "1.2.0",
          "state": {
            "_model_module": "@jupyter-widgets/base",
            "_model_module_version": "1.2.0",
            "_model_name": "LayoutModel",
            "_view_count": null,
            "_view_module": "@jupyter-widgets/base",
            "_view_module_version": "1.2.0",
            "_view_name": "LayoutView",
            "align_content": null,
            "align_items": null,
            "align_self": null,
            "border": null,
            "bottom": null,
            "display": null,
            "flex": null,
            "flex_flow": null,
            "grid_area": null,
            "grid_auto_columns": null,
            "grid_auto_flow": null,
            "grid_auto_rows": null,
            "grid_column": null,
            "grid_gap": null,
            "grid_row": null,
            "grid_template_areas": null,
            "grid_template_columns": null,
            "grid_template_rows": null,
            "height": null,
            "justify_content": null,
            "justify_items": null,
            "left": null,
            "margin": null,
            "max_height": null,
            "max_width": null,
            "min_height": null,
            "min_width": null,
            "object_fit": null,
            "object_position": null,
            "order": null,
            "overflow": null,
            "overflow_x": null,
            "overflow_y": null,
            "padding": null,
            "right": null,
            "top": null,
            "visibility": null,
            "width": null
          }
        },
        "bc665635d3314a5c8b30277b1b8eac21": {
          "model_module": "@jupyter-widgets/controls",
          "model_name": "ButtonStyleModel",
          "model_module_version": "1.5.0",
          "state": {
            "_model_module": "@jupyter-widgets/controls",
            "_model_module_version": "1.5.0",
            "_model_name": "ButtonStyleModel",
            "_view_count": null,
            "_view_module": "@jupyter-widgets/base",
            "_view_module_version": "1.2.0",
            "_view_name": "StyleView",
            "button_color": null,
            "font_weight": ""
          }
        },
        "dc465b093c344fcaa5950e62722e3f9d": {
          "model_module": "@jupyter-widgets/output",
          "model_name": "OutputModel",
          "model_module_version": "1.0.0",
          "state": {
            "_dom_classes": [],
            "_model_module": "@jupyter-widgets/output",
            "_model_module_version": "1.0.0",
            "_model_name": "OutputModel",
            "_view_count": null,
            "_view_module": "@jupyter-widgets/output",
            "_view_module_version": "1.0.0",
            "_view_name": "OutputView",
            "layout": "IPY_MODEL_c534dc75474d49d6a0a21864514194b0",
            "msg_id": "",
            "outputs": [
              {
                "output_type": "stream",
                "name": "stdout",
                "text": [
                  "Suggested Course: MEDICAL\n"
                ]
              }
            ]
          }
        },
        "c534dc75474d49d6a0a21864514194b0": {
          "model_module": "@jupyter-widgets/base",
          "model_name": "LayoutModel",
          "model_module_version": "1.2.0",
          "state": {
            "_model_module": "@jupyter-widgets/base",
            "_model_module_version": "1.2.0",
            "_model_name": "LayoutModel",
            "_view_count": null,
            "_view_module": "@jupyter-widgets/base",
            "_view_module_version": "1.2.0",
            "_view_name": "LayoutView",
            "align_content": null,
            "align_items": null,
            "align_self": null,
            "border": null,
            "bottom": null,
            "display": null,
            "flex": null,
            "flex_flow": null,
            "grid_area": null,
            "grid_auto_columns": null,
            "grid_auto_flow": null,
            "grid_auto_rows": null,
            "grid_column": null,
            "grid_gap": null,
            "grid_row": null,
            "grid_template_areas": null,
            "grid_template_columns": null,
            "grid_template_rows": null,
            "height": null,
            "justify_content": null,
            "justify_items": null,
            "left": null,
            "margin": null,
            "max_height": null,
            "max_width": null,
            "min_height": null,
            "min_width": null,
            "object_fit": null,
            "object_position": null,
            "order": null,
            "overflow": null,
            "overflow_x": null,
            "overflow_y": null,
            "padding": null,
            "right": null,
            "top": null,
            "visibility": null,
            "width": null
          }
        }
      }
    }
  },
  "nbformat": 4,
  "nbformat_minor": 0
}